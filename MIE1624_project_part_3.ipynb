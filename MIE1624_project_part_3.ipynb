{
 "cells": [
  {
   "cell_type": "code",
   "execution_count": 1,
   "metadata": {
    "scrolled": true
   },
   "outputs": [
    {
     "name": "stdout",
     "output_type": "stream",
     "text": [
      "Requirement already satisfied: plotly in c:\\users\\ween\\anaconda3\\lib\\site-packages (3.7.1)\n",
      "Requirement already satisfied: retrying>=1.3.3 in c:\\users\\ween\\anaconda3\\lib\\site-packages (from plotly) (1.3.3)\n",
      "Requirement already satisfied: decorator>=4.0.6 in c:\\users\\ween\\anaconda3\\lib\\site-packages (from plotly) (4.3.0)\n",
      "Requirement already satisfied: nbformat>=4.2 in c:\\users\\ween\\anaconda3\\lib\\site-packages (from plotly) (4.4.0)\n",
      "Requirement already satisfied: pytz in c:\\users\\ween\\anaconda3\\lib\\site-packages (from plotly) (2018.7)\n",
      "Requirement already satisfied: requests in c:\\users\\ween\\anaconda3\\lib\\site-packages (from plotly) (2.21.0)\n",
      "Requirement already satisfied: six in c:\\users\\ween\\anaconda3\\lib\\site-packages (from plotly) (1.12.0)\n",
      "Requirement already satisfied: traitlets>=4.1 in c:\\users\\ween\\anaconda3\\lib\\site-packages (from nbformat>=4.2->plotly) (4.3.2)\n",
      "Requirement already satisfied: jupyter-core in c:\\users\\ween\\anaconda3\\lib\\site-packages (from nbformat>=4.2->plotly) (4.4.0)\n",
      "Requirement already satisfied: jsonschema!=2.5.0,>=2.4 in c:\\users\\ween\\anaconda3\\lib\\site-packages (from nbformat>=4.2->plotly) (2.6.0)\n",
      "Requirement already satisfied: ipython-genutils in c:\\users\\ween\\anaconda3\\lib\\site-packages (from nbformat>=4.2->plotly) (0.2.0)\n",
      "Requirement already satisfied: idna<2.9,>=2.5 in c:\\users\\ween\\anaconda3\\lib\\site-packages (from requests->plotly) (2.8)\n",
      "Requirement already satisfied: chardet<3.1.0,>=3.0.2 in c:\\users\\ween\\anaconda3\\lib\\site-packages (from requests->plotly) (3.0.4)\n",
      "Requirement already satisfied: urllib3<1.25,>=1.21.1 in c:\\users\\ween\\anaconda3\\lib\\site-packages (from requests->plotly) (1.24.1)\n",
      "Requirement already satisfied: certifi>=2017.4.17 in c:\\users\\ween\\anaconda3\\lib\\site-packages (from requests->plotly) (2019.3.9)\n"
     ]
    }
   ],
   "source": [
    "!pip install plotly\n"
   ]
  },
  {
   "cell_type": "code",
   "execution_count": 2,
   "metadata": {},
   "outputs": [],
   "source": [
    "#----------------------------------------------\n",
    "# Import Libraries\n",
    "#----------------------------------------------\n",
    "\n",
    "import pandas as pd\n",
    "import numpy as np\n",
    "\n",
    "import scipy.cluster.hierarchy as sch\n",
    "\n",
    "import matplotlib.pyplot as plt\n",
    "import plotly.graph_objs as go"
   ]
  },
  {
   "cell_type": "code",
   "execution_count": 3,
   "metadata": {},
   "outputs": [],
   "source": [
    "df_ba=pd.read_csv(\"business_data_analyst_skills.csv\")\n",
    "df_bma=pd.read_csv(\"business_management_analyst_skills.csv\")"
   ]
  },
  {
   "cell_type": "code",
   "execution_count": 4,
   "metadata": {},
   "outputs": [],
   "source": [
    "skill_ba=df_ba[df_ba.columns.drop(df_ba.columns[0:6])]\n",
    "skill_bma=df_bma[df_bma.columns.drop(df_bma.columns[0:6])]"
   ]
  },
  {
   "cell_type": "code",
   "execution_count": 5,
   "metadata": {
    "scrolled": true
   },
   "outputs": [
    {
     "data": {
      "text/html": [
       "<div>\n",
       "<style scoped>\n",
       "    .dataframe tbody tr th:only-of-type {\n",
       "        vertical-align: middle;\n",
       "    }\n",
       "\n",
       "    .dataframe tbody tr th {\n",
       "        vertical-align: top;\n",
       "    }\n",
       "\n",
       "    .dataframe thead th {\n",
       "        text-align: right;\n",
       "    }\n",
       "</style>\n",
       "<table border=\"1\" class=\"dataframe\">\n",
       "  <thead>\n",
       "    <tr style=\"text-align: right;\">\n",
       "      <th></th>\n",
       "      <th>Big Data</th>\n",
       "      <th>C/C++</th>\n",
       "      <th>CPA</th>\n",
       "      <th>CRM</th>\n",
       "      <th>Cloud</th>\n",
       "      <th>Data Mining/Analytics</th>\n",
       "      <th>DevOps</th>\n",
       "      <th>Excel</th>\n",
       "      <th>Java/Scala</th>\n",
       "      <th>MATLAB</th>\n",
       "      <th>...</th>\n",
       "      <th>business modeling</th>\n",
       "      <th>communication</th>\n",
       "      <th>consulting</th>\n",
       "      <th>data modeling</th>\n",
       "      <th>leadership</th>\n",
       "      <th>marketing</th>\n",
       "      <th>organizational</th>\n",
       "      <th>problem solving</th>\n",
       "      <th>process modeling</th>\n",
       "      <th>project_management</th>\n",
       "    </tr>\n",
       "  </thead>\n",
       "  <tbody>\n",
       "    <tr>\n",
       "      <th>0</th>\n",
       "      <td>0</td>\n",
       "      <td>0</td>\n",
       "      <td>0</td>\n",
       "      <td>0</td>\n",
       "      <td>0</td>\n",
       "      <td>0</td>\n",
       "      <td>0</td>\n",
       "      <td>1</td>\n",
       "      <td>0</td>\n",
       "      <td>0</td>\n",
       "      <td>...</td>\n",
       "      <td>0</td>\n",
       "      <td>1</td>\n",
       "      <td>0</td>\n",
       "      <td>0</td>\n",
       "      <td>0</td>\n",
       "      <td>0</td>\n",
       "      <td>1</td>\n",
       "      <td>1</td>\n",
       "      <td>0</td>\n",
       "      <td>0</td>\n",
       "    </tr>\n",
       "    <tr>\n",
       "      <th>1</th>\n",
       "      <td>0</td>\n",
       "      <td>0</td>\n",
       "      <td>1</td>\n",
       "      <td>1</td>\n",
       "      <td>0</td>\n",
       "      <td>0</td>\n",
       "      <td>0</td>\n",
       "      <td>1</td>\n",
       "      <td>0</td>\n",
       "      <td>0</td>\n",
       "      <td>...</td>\n",
       "      <td>0</td>\n",
       "      <td>1</td>\n",
       "      <td>0</td>\n",
       "      <td>0</td>\n",
       "      <td>0</td>\n",
       "      <td>1</td>\n",
       "      <td>0</td>\n",
       "      <td>0</td>\n",
       "      <td>0</td>\n",
       "      <td>0</td>\n",
       "    </tr>\n",
       "    <tr>\n",
       "      <th>2</th>\n",
       "      <td>0</td>\n",
       "      <td>0</td>\n",
       "      <td>0</td>\n",
       "      <td>0</td>\n",
       "      <td>0</td>\n",
       "      <td>1</td>\n",
       "      <td>0</td>\n",
       "      <td>0</td>\n",
       "      <td>0</td>\n",
       "      <td>0</td>\n",
       "      <td>...</td>\n",
       "      <td>0</td>\n",
       "      <td>1</td>\n",
       "      <td>0</td>\n",
       "      <td>0</td>\n",
       "      <td>0</td>\n",
       "      <td>0</td>\n",
       "      <td>0</td>\n",
       "      <td>0</td>\n",
       "      <td>0</td>\n",
       "      <td>0</td>\n",
       "    </tr>\n",
       "    <tr>\n",
       "      <th>3</th>\n",
       "      <td>0</td>\n",
       "      <td>0</td>\n",
       "      <td>0</td>\n",
       "      <td>0</td>\n",
       "      <td>0</td>\n",
       "      <td>1</td>\n",
       "      <td>0</td>\n",
       "      <td>0</td>\n",
       "      <td>0</td>\n",
       "      <td>0</td>\n",
       "      <td>...</td>\n",
       "      <td>0</td>\n",
       "      <td>0</td>\n",
       "      <td>0</td>\n",
       "      <td>0</td>\n",
       "      <td>0</td>\n",
       "      <td>0</td>\n",
       "      <td>1</td>\n",
       "      <td>0</td>\n",
       "      <td>0</td>\n",
       "      <td>0</td>\n",
       "    </tr>\n",
       "    <tr>\n",
       "      <th>4</th>\n",
       "      <td>0</td>\n",
       "      <td>0</td>\n",
       "      <td>0</td>\n",
       "      <td>0</td>\n",
       "      <td>0</td>\n",
       "      <td>0</td>\n",
       "      <td>0</td>\n",
       "      <td>0</td>\n",
       "      <td>0</td>\n",
       "      <td>0</td>\n",
       "      <td>...</td>\n",
       "      <td>0</td>\n",
       "      <td>0</td>\n",
       "      <td>0</td>\n",
       "      <td>0</td>\n",
       "      <td>0</td>\n",
       "      <td>0</td>\n",
       "      <td>0</td>\n",
       "      <td>0</td>\n",
       "      <td>0</td>\n",
       "      <td>0</td>\n",
       "    </tr>\n",
       "  </tbody>\n",
       "</table>\n",
       "<p>5 rows × 36 columns</p>\n",
       "</div>"
      ],
      "text/plain": [
       "   Big Data  C/C++  CPA  CRM  Cloud  Data Mining/Analytics  DevOps  Excel  \\\n",
       "0         0      0    0    0      0                      0       0      1   \n",
       "1         0      0    1    1      0                      0       0      1   \n",
       "2         0      0    0    0      0                      1       0      0   \n",
       "3         0      0    0    0      0                      1       0      0   \n",
       "4         0      0    0    0      0                      0       0      0   \n",
       "\n",
       "   Java/Scala  MATLAB  ...  business modeling  communication  consulting  \\\n",
       "0           0       0  ...                  0              1           0   \n",
       "1           0       0  ...                  0              1           0   \n",
       "2           0       0  ...                  0              1           0   \n",
       "3           0       0  ...                  0              0           0   \n",
       "4           0       0  ...                  0              0           0   \n",
       "\n",
       "   data modeling  leadership  marketing  organizational  problem solving  \\\n",
       "0              0           0          0               1                1   \n",
       "1              0           0          1               0                0   \n",
       "2              0           0          0               0                0   \n",
       "3              0           0          0               1                0   \n",
       "4              0           0          0               0                0   \n",
       "\n",
       "   process modeling  project_management  \n",
       "0                 0                   0  \n",
       "1                 0                   0  \n",
       "2                 0                   0  \n",
       "3                 0                   0  \n",
       "4                 0                   0  \n",
       "\n",
       "[5 rows x 36 columns]"
      ]
     },
     "execution_count": 5,
     "metadata": {},
     "output_type": "execute_result"
    }
   ],
   "source": [
    "skill=pd.concat([skill_ba, skill_bma], ignore_index=True)\n",
    "skill.head()"
   ]
  },
  {
   "cell_type": "code",
   "execution_count": 6,
   "metadata": {},
   "outputs": [],
   "source": [
    "skill.to_csv('skill.csv')"
   ]
  },
  {
   "cell_type": "markdown",
   "metadata": {},
   "source": [
    "# 1. Hierarchical Clustering"
   ]
  },
  {
   "cell_type": "code",
   "execution_count": 7,
   "metadata": {},
   "outputs": [],
   "source": [
    "#in here we are constructing a distance matrix based on if  the skills appear in one row (so same posting)\n",
    "#if they apear in one posting, then add the distance between them by 1. \n",
    "#Then we can minus this value by the maximum value to get the true distance between skills\n",
    "N = len(skill.columns)\n",
    "D = np.zeros((N,N))\n",
    "for index, row in skill.iterrows():\n",
    "    one = []\n",
    "    for column in skill:\n",
    "        if (row[column]==1):\n",
    "            one.append(column)\n",
    "    \n",
    "    for i in one:\n",
    "        for j in one:\n",
    "            if i != j:\n",
    "                D[skill.columns.get_loc(i),skill.columns.get_loc(j)] +=1\n",
    "\n",
    "#in here we get the true distance as describe above                \n",
    "D=D.max()-D"
   ]
  },
  {
   "cell_type": "code",
   "execution_count": 8,
   "metadata": {},
   "outputs": [],
   "source": [
    "#The hierarchical clustering encoded as a linkage matrix.\n",
    "Y = sch.linkage(D, method='centroid')\n",
    "    "
   ]
  },
  {
   "cell_type": "code",
   "execution_count": 9,
   "metadata": {
    "scrolled": false
   },
   "outputs": [
    {
     "data": {
      "image/png": "[encoded data removed]",
      "text/plain": [
       "<Figure size 576x1440 with 1 Axes>"
      ]
     },
     "metadata": {
      "needs_background": "light"
     },
     "output_type": "display_data"
    }
   ],
   "source": [
    "fig = plt.figure(figsize=(8, 20))\n",
    "ax1 = fig.add_axes([0,0,1,1])\n",
    "\n",
    "Z1 = sch.dendrogram(Y, orientation='right',show_leaf_counts=True)\n",
    "labels = skill.columns\n",
    "ax1.set_xticks([])\n",
    "ax1.set_yticklabels(labels)\n",
    "ax1.tick_params(axis='y', which='major', labelsize=12)\n",
    "\n",
    "plt.axvline(x=230,c='r') #plot a vertical line to see the clusters it crosses\n",
    "plt.plot() # supress prints\n",
    "plt.savefig('figure.png',bbox_inches='tight')\n",
    "plt.show()"
   ]
  },
  {
   "cell_type": "markdown",
   "metadata": {
    "scrolled": true
   },
   "source": [
    "## Now let's see how many business skills are required compare to technical skills"
   ]
  },
  {
   "cell_type": "code",
   "execution_count": 10,
   "metadata": {
    "scrolled": true
   },
   "outputs": [],
   "source": [
    "#use the frequence of the skill as the relevance value of that skill\n",
    "relevance=pd.DataFrame(skill.sum().sort_values(ascending=False),columns={'Relevance'})"
   ]
  },
  {
   "cell_type": "code",
   "execution_count": 11,
   "metadata": {},
   "outputs": [],
   "source": [
    "#drop any rows with 0 values\n",
    "relevance=relevance.loc[~(relevance==0).all(axis=1)]"
   ]
  },
  {
   "cell_type": "code",
   "execution_count": 12,
   "metadata": {
    "scrolled": true
   },
   "outputs": [
    {
     "name": "stderr",
     "output_type": "stream",
     "text": [
      "C:\\Users\\Ween\\Anaconda3\\lib\\site-packages\\IPython\\core\\display.py:689: UserWarning:\n",
      "\n",
      "Consider using IPython.display.IFrame instead\n",
      "\n"
     ]
    },
    {
     "data": {
      "text/html": [
       "<iframe id=\"igraph\" scrolling=\"no\" style=\"border:none;\" seamless=\"seamless\" src=\"https://plot.ly/~wuwenjia24/2.embed\" height=\"525px\" width=\"100%\"></iframe>"
      ],
      "text/plain": [
       "<plotly.tools.PlotlyDisplay object>"
      ]
     },
     "execution_count": 12,
     "metadata": {},
     "output_type": "execute_result"
    }
   ],
   "source": [
    "#from plotly.offline import init_notebook_mode, iplot\n",
    "import plotly \n",
    "plotly.tools.set_credentials_file(username='wuwenjia24', api_key='sjTYj1PUCt8kbzm1eKHy')\n",
    "import plotly.plotly as py\n",
    "import plotly.graph_objs as go\n",
    "labels = (np.array(relevance.index))\n",
    "sizes = (np.array((relevance)))\n",
    "\n",
    "trace = go.Pie(labels=labels, values=sizes, hole=0.6)\n",
    "layout = go.Layout(\n",
    "    title='Most Needed Skills'\n",
    ")\n",
    "fig = go.Figure(data=[trace], layout=layout)\n",
    "py.iplot(fig, filename=\"top-skil\")"
   ]
  },
  {
   "cell_type": "markdown",
   "metadata": {},
   "source": [
    "### We only need to look into the bussiness management aspect of the program as we have the technical part covered in Part 2. "
   ]
  },
  {
   "cell_type": "code",
   "execution_count": 13,
   "metadata": {
    "scrolled": true
   },
   "outputs": [
    {
     "data": {
      "text/html": [
       "<div>\n",
       "<style scoped>\n",
       "    .dataframe tbody tr th:only-of-type {\n",
       "        vertical-align: middle;\n",
       "    }\n",
       "\n",
       "    .dataframe tbody tr th {\n",
       "        vertical-align: top;\n",
       "    }\n",
       "\n",
       "    .dataframe thead th {\n",
       "        text-align: right;\n",
       "    }\n",
       "</style>\n",
       "<table border=\"1\" class=\"dataframe\">\n",
       "  <thead>\n",
       "    <tr style=\"text-align: right;\">\n",
       "      <th></th>\n",
       "      <th>Relevance</th>\n",
       "    </tr>\n",
       "  </thead>\n",
       "  <tbody>\n",
       "    <tr>\n",
       "      <th>SQL/databases</th>\n",
       "      <td>0.195538</td>\n",
       "    </tr>\n",
       "    <tr>\n",
       "      <th>communication</th>\n",
       "      <td>0.148698</td>\n",
       "    </tr>\n",
       "    <tr>\n",
       "      <th>Excel</th>\n",
       "      <td>0.125219</td>\n",
       "    </tr>\n",
       "    <tr>\n",
       "      <th>Data Mining/Analytics</th>\n",
       "      <td>0.061909</td>\n",
       "    </tr>\n",
       "    <tr>\n",
       "      <th>R</th>\n",
       "      <td>0.056535</td>\n",
       "    </tr>\n",
       "    <tr>\n",
       "      <th>organizational</th>\n",
       "      <td>0.050812</td>\n",
       "    </tr>\n",
       "    <tr>\n",
       "      <th>problem solving</th>\n",
       "      <td>0.042051</td>\n",
       "    </tr>\n",
       "    <tr>\n",
       "      <th>business analysis</th>\n",
       "      <td>0.037145</td>\n",
       "    </tr>\n",
       "    <tr>\n",
       "      <th>leadership</th>\n",
       "      <td>0.034459</td>\n",
       "    </tr>\n",
       "    <tr>\n",
       "      <th>project_management</th>\n",
       "      <td>0.030721</td>\n",
       "    </tr>\n",
       "    <tr>\n",
       "      <th>marketing</th>\n",
       "      <td>0.029436</td>\n",
       "    </tr>\n",
       "    <tr>\n",
       "      <th>CRM</th>\n",
       "      <td>0.020325</td>\n",
       "    </tr>\n",
       "    <tr>\n",
       "      <th>consulting</th>\n",
       "      <td>0.019273</td>\n",
       "    </tr>\n",
       "    <tr>\n",
       "      <th>Python</th>\n",
       "      <td>0.018456</td>\n",
       "    </tr>\n",
       "    <tr>\n",
       "      <th>Machine Learning</th>\n",
       "      <td>0.017872</td>\n",
       "    </tr>\n",
       "    <tr>\n",
       "      <th>SAS</th>\n",
       "      <td>0.014952</td>\n",
       "    </tr>\n",
       "    <tr>\n",
       "      <th>Math</th>\n",
       "      <td>0.014251</td>\n",
       "    </tr>\n",
       "    <tr>\n",
       "      <th>Cloud</th>\n",
       "      <td>0.012732</td>\n",
       "    </tr>\n",
       "    <tr>\n",
       "      <th>Java/Scala</th>\n",
       "      <td>0.012148</td>\n",
       "    </tr>\n",
       "    <tr>\n",
       "      <th>VBA</th>\n",
       "      <td>0.011097</td>\n",
       "    </tr>\n",
       "    <tr>\n",
       "      <th>Big Data</th>\n",
       "      <td>0.008644</td>\n",
       "    </tr>\n",
       "    <tr>\n",
       "      <th>data modeling</th>\n",
       "      <td>0.005957</td>\n",
       "    </tr>\n",
       "    <tr>\n",
       "      <th>CPA</th>\n",
       "      <td>0.005840</td>\n",
       "    </tr>\n",
       "    <tr>\n",
       "      <th>business modeling</th>\n",
       "      <td>0.004789</td>\n",
       "    </tr>\n",
       "    <tr>\n",
       "      <th>process modeling</th>\n",
       "      <td>0.003621</td>\n",
       "    </tr>\n",
       "    <tr>\n",
       "      <th>business management</th>\n",
       "      <td>0.003504</td>\n",
       "    </tr>\n",
       "    <tr>\n",
       "      <th>Visualisation</th>\n",
       "      <td>0.003037</td>\n",
       "    </tr>\n",
       "    <tr>\n",
       "      <th>DevOps</th>\n",
       "      <td>0.003037</td>\n",
       "    </tr>\n",
       "    <tr>\n",
       "      <th>REST</th>\n",
       "      <td>0.002803</td>\n",
       "    </tr>\n",
       "    <tr>\n",
       "      <th>SPSS</th>\n",
       "      <td>0.002219</td>\n",
       "    </tr>\n",
       "    <tr>\n",
       "      <th>C/C++</th>\n",
       "      <td>0.001402</td>\n",
       "    </tr>\n",
       "    <tr>\n",
       "      <th>NLP</th>\n",
       "      <td>0.000818</td>\n",
       "    </tr>\n",
       "    <tr>\n",
       "      <th>MATLAB</th>\n",
       "      <td>0.000584</td>\n",
       "    </tr>\n",
       "    <tr>\n",
       "      <th>Stata</th>\n",
       "      <td>0.000117</td>\n",
       "    </tr>\n",
       "  </tbody>\n",
       "</table>\n",
       "</div>"
      ],
      "text/plain": [
       "                       Relevance\n",
       "SQL/databases           0.195538\n",
       "communication           0.148698\n",
       "Excel                   0.125219\n",
       "Data Mining/Analytics   0.061909\n",
       "R                       0.056535\n",
       "organizational          0.050812\n",
       "problem solving         0.042051\n",
       "business analysis       0.037145\n",
       "leadership              0.034459\n",
       "project_management      0.030721\n",
       "marketing               0.029436\n",
       "CRM                     0.020325\n",
       "consulting              0.019273\n",
       "Python                  0.018456\n",
       "Machine Learning        0.017872\n",
       "SAS                     0.014952\n",
       "Math                    0.014251\n",
       "Cloud                   0.012732\n",
       "Java/Scala              0.012148\n",
       "VBA                     0.011097\n",
       "Big Data                0.008644\n",
       "data modeling           0.005957\n",
       "CPA                     0.005840\n",
       "business modeling       0.004789\n",
       "process modeling        0.003621\n",
       "business management     0.003504\n",
       "Visualisation           0.003037\n",
       "DevOps                  0.003037\n",
       "REST                    0.002803\n",
       "SPSS                    0.002219\n",
       "C/C++                   0.001402\n",
       "NLP                     0.000818\n",
       "MATLAB                  0.000584\n",
       "Stata                   0.000117"
      ]
     },
     "execution_count": 13,
     "metadata": {},
     "output_type": "execute_result"
    }
   ],
   "source": [
    "#get the list of percentages\n",
    "relevance/relevance.sum()"
   ]
  },
  {
   "cell_type": "markdown",
   "metadata": {},
   "source": [
    "### For the top skills (visiable on the plot), the business and management skills are organizational, communication, business analysis, leadership, project_management, marketing, CRM and consulting. Their total percentage is 37.11%. But communication should be weighted down a bit as it takes the third place in 'Data Science' search as well(refer to the appendix below) and hence, it is not a very important differentiation factor, even though it is very important in both positions. So  combining this percentage with technical courses we found in Part 2 and Hierarchical Clustering above, we have:\n",
    "   \n",
    "*Required Course:\n",
    "\n",
    "-------------------------------Business------------------------------------------\n",
    "- Evidence-Based Practice in Management(communication,consulting,data modeling,leadership, business modeling) 17.35%\n",
    "- Organizational Behaviour (problem solving, organizational) 9.29%\n",
    "\n",
    "-------------------------------Data Science---------------------------------------\n",
    "- Data, Models and Decisions in Business Analytics (SQL, business analysis, business management, visualization) 23.92%\n",
    "- Introduction to R for Data Science and Data Mining(R, Machine Learning,Data Mining/Analytics) 13.63%\n",
    "- Introduction to Business Data Management (Excel, VBA) 12.63%\n",
    "\n",
    "*Optional Course:\n",
    "\n",
    "-------------------------------Business-----------------------------------------\n",
    "- Introduction to Excel for Accounting (Excel, CPA) 12.58% (the class is optional because it has very specific area and narrow path ahead)\n",
    "- Demand and Supply Analytics(business analysis, business management, visualization) 4.37%\n",
    "- Marketing Analytics (Marketing) 2.94%\n",
    "- Project Management in Data Science (Project Management) 3.07%\n",
    "\n",
    "-------------------------------Data Science---------------------------------------\n",
    "- Introduction to Python for Data Science(Python, Machine Learning,Data Mining/Analytics) 9.82%\n",
    "- Data Science in Customer Relationship management (CRM, Cloud, Data Mining/Analytics) 9.50%\n",
    "- Introduction to big data analytics tool (Big Data, Cloud) 2.14%\n",
    "\n",
    "*Projects:\n",
    "- Big Data Marketing (combining knowledge from Marketing Analytics & Data, Models and Decisions in Business Analytics)\n",
    "- Practice Database Management (combining knowledge from Evidence-Based Practice in Management & Introduction to Excel for Databas)\n",
    "\n",
    "*Internship:\n",
    "- using the results from part 2, we recomend Ontario Power Generation for Business Analyst and Marketing Analyst internship"
   ]
  },
  {
   "cell_type": "markdown",
   "metadata": {},
   "source": [
    "## Appendix"
   ]
  },
  {
   "cell_type": "code",
   "execution_count": 14,
   "metadata": {},
   "outputs": [
    {
     "data": {
      "text/html": [
       "<iframe id=\"igraph\" scrolling=\"no\" style=\"border:none;\" seamless=\"seamless\" src=\"https://plot.ly/~wuwenjia24/4.embed\" height=\"525px\" width=\"100%\"></iframe>"
      ],
      "text/plain": [
       "<plotly.tools.PlotlyDisplay object>"
      ]
     },
     "execution_count": 14,
     "metadata": {},
     "output_type": "execute_result"
    }
   ],
   "source": [
    "df=pd.read_csv('data_science_skills.csv')\n",
    "df=df[df.columns.drop(df.columns[0:6])]\n",
    "df=pd.DataFrame(df.sum().sort_values(ascending=False),columns={'counts'})\n",
    "labels = (np.array(df.index))\n",
    "sizes = (np.array((df)))\n",
    "\n",
    "trace = go.Pie(labels=labels, values=sizes, hole=0.6)\n",
    "layout = go.Layout(\n",
    "    title='Data Science Skills'\n",
    ")\n",
    "fig = go.Figure(data=[trace], layout=layout)\n",
    "py.iplot(fig, filename=\"top_skil_data_science\")"
   ]
  }
 ],
 "metadata": {
  "kernelspec": {
   "display_name": "Python 3",
   "language": "python",
   "name": "python3"
  },
  "language_info": {
   "codemirror_mode": {
    "name": "ipython",
    "version": 3
   },
   "file_extension": ".py",
   "mimetype": "text/x-python",
   "name": "python",
   "nbconvert_exporter": "python",
   "pygments_lexer": "ipython3",
   "version": "3.7.1"
  }
 },
 "nbformat": 4,
 "nbformat_minor": 2
}
